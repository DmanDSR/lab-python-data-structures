{
 "cells": [
  {
   "cell_type": "code",
   "execution_count": 103,
   "id": "617d89c7",
   "metadata": {},
   "outputs": [],
   "source": [
    "products = [\"t-shirt\", \"mug\", \"hat\", \"book\", \"keychain\"]\n",
    "key = 0"
   ]
  },
  {
   "cell_type": "code",
   "execution_count": 104,
   "id": "61e4aca0",
   "metadata": {},
   "outputs": [],
   "source": [
    "inventory = { } #needed to add space to this"
   ]
  },
  {
   "cell_type": "code",
   "execution_count": 105,
   "id": "bacb9777",
   "metadata": {},
   "outputs": [
    {
     "name": "stdout",
     "output_type": "stream",
     "text": [
      "Hello please input the inventory number for t-shirt:12\n",
      "Hello please input the inventory number for mug:12\n",
      "Hello please input the inventory number for hat:12\n",
      "Hello please input the inventory number for book:12\n",
      "Hello please input the inventory number for keychain:12\n",
      "{'t-shirt': 12, 'mug': 12, 'hat': 12, 'book': 12, 'keychain': 12}\n"
     ]
    }
   ],
   "source": [
    "for loop in products:\n",
    "    val_1 = input(\"Hello please input the inventory number for \" + products[key] + \":\" )\n",
    "    if val_1.isdigit():\n",
    "        inventory[products[key]] = int(val_1)\n",
    "        key+=1\n",
    "    else:\n",
    "        print(\"Please input a number value for the product, try again\")\n",
    "    \n",
    "print(inventory)"
   ]
  },
  {
   "cell_type": "code",
   "execution_count": 110,
   "id": "bf23e6f5",
   "metadata": {},
   "outputs": [
    {
     "data": {
      "text/plain": [
       "set"
      ]
     },
     "execution_count": 110,
     "metadata": {},
     "output_type": "execute_result"
    }
   ],
   "source": [
    "customer_orders = set() \n",
    "type(customer_orders)"
   ]
  },
  {
   "cell_type": "code",
   "execution_count": null,
   "id": "4af8fdef",
   "metadata": {},
   "outputs": [],
   "source": [
    "repeat = True\n",
    "while repeat == True:\n",
    "    print(\"what 3 products do you want to order \")\n",
    "    p_1 = input('Product 1: ')\n",
    "    \n",
    "    "
   ]
  },
  {
   "cell_type": "code",
   "execution_count": null,
   "id": "3abe0b4e",
   "metadata": {},
   "outputs": [],
   "source": [
    "for product in products:\n",
    "    val_1 = int(input(\"Hello please input the inventory number for \" + products[val] + \":\" ))\n",
    "    name = products[val]\n",
    "    inventory[name] = val_1\n",
    "    val+=1\n",
    "print(inventory)"
   ]
  },
  {
   "cell_type": "code",
   "execution_count": null,
   "id": "6d5542b4",
   "metadata": {},
   "outputs": [],
   "source": [
    "for loop in products:\n",
    "    inventory[products[key]] = input(\"Hello please input the inventory number for \" + products[key] + \":\" )\n",
    "    key+=1\n",
    "    \n",
    "print(inventory)"
   ]
  }
 ],
 "metadata": {
  "kernelspec": {
   "display_name": "Python 3 (ipykernel)",
   "language": "python",
   "name": "python3"
  },
  "language_info": {
   "codemirror_mode": {
    "name": "ipython",
    "version": 3
   },
   "file_extension": ".py",
   "mimetype": "text/x-python",
   "name": "python",
   "nbconvert_exporter": "python",
   "pygments_lexer": "ipython3",
   "version": "3.11.7"
  }
 },
 "nbformat": 4,
 "nbformat_minor": 5
}
