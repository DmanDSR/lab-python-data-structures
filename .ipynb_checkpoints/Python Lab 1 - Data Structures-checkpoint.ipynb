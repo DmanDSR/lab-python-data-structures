{
 "cells": [
  {
   "cell_type": "code",
   "execution_count": 1,
   "id": "617d89c7",
   "metadata": {},
   "outputs": [],
   "source": [
    "products = [\"t-shirt\", \"mug\", \"hat\", \"book\", \"keychain\"]\n",
    "key = 0"
   ]
  },
  {
   "cell_type": "code",
   "execution_count": 2,
   "id": "61e4aca0",
   "metadata": {},
   "outputs": [],
   "source": [
    "inventory = { } #needed to add space to this"
   ]
  },
  {
   "cell_type": "code",
   "execution_count": 3,
   "id": "bacb9777",
   "metadata": {},
   "outputs": [
    {
     "name": "stdout",
     "output_type": "stream",
     "text": [
      "Hello please input the inventory number for t-shirt:12\n",
      "Hello please input the inventory number for mug:45\n",
      "Hello please input the inventory number for hat:36\n",
      "Hello please input the inventory number for book:9\n",
      "Hello please input the inventory number for keychain:199\n",
      "{'t-shirt': 12, 'mug': 45, 'hat': 36, 'book': 9, 'keychain': 199}\n"
     ]
    }
   ],
   "source": [
    "for loop in products:\n",
    "    val_1 = input(\"Hello please input the inventory number for \" + products[key] + \":\" )\n",
    "    if val_1.isdigit():\n",
    "        inventory[products[key]] = int(val_1)\n",
    "        key+=1\n",
    "    else:\n",
    "        print(\"Please input a number value for the product, try again\")\n",
    "    \n",
    "print(inventory)"
   ]
  },
  {
   "cell_type": "code",
   "execution_count": 4,
   "id": "bf23e6f5",
   "metadata": {},
   "outputs": [
    {
     "data": {
      "text/plain": [
       "set"
      ]
     },
     "execution_count": 4,
     "metadata": {},
     "output_type": "execute_result"
    }
   ],
   "source": [
    "customer_orders = set() \n",
    "type(customer_orders)"
   ]
  },
  {
   "cell_type": "code",
   "execution_count": 5,
   "id": "4af8fdef",
   "metadata": {},
   "outputs": [
    {
     "name": "stdout",
     "output_type": "stream",
     "text": [
      "what 3 products do you want to order \n",
      "Product 1: mug\n",
      "Product 2: t-shirt\n",
      "Product 3: book\n",
      "{'book', 'mug', 't-shirt'}\n"
     ]
    }
   ],
   "source": [
    "print(\"what 3 products do you want to order \")\n",
    "p_1 = input('Product 1: ')\n",
    "p_1.lower()\n",
    "customer_orders.add(p_1)\n",
    "p_2 = input('Product 2: ')\n",
    "p_2.lower()\n",
    "customer_orders.add(p_2)\n",
    "p_3 = input('Product 3: ')\n",
    "p_3.lower()\n",
    "customer_orders.add(p_3)\n",
    "\n",
    "print(customer_orders)\n"
   ]
  },
  {
   "cell_type": "code",
   "execution_count": 18,
   "id": "bb692df0",
   "metadata": {},
   "outputs": [
    {
     "name": "stdout",
     "output_type": "stream",
     "text": [
      "How much of the follwing products do you want to order\n",
      "How much of product book: 15\n",
      "How much of product mug: 1\n",
      "How much of product t-shirt: 2\n"
     ]
    }
   ],
   "source": [
    "print(\"How much of the follwing products do you want to order\")\n",
    "num_in_set = len(customer_orders)\n",
    "\n",
    "for i in customer_orders:\n",
    "    val_p1 = int(input(\"How much of product \" + i + \": \"))\n",
    "    "
   ]
  },
  {
   "cell_type": "code",
   "execution_count": null,
   "id": "3abe0b4e",
   "metadata": {},
   "outputs": [],
   "source": [
    "for product in products:\n",
    "    val_1 = int(input(\"Hello please input the inventory number for \" + products[val] + \":\" ))\n",
    "    name = products[val]\n",
    "    inventory[name] = val_1\n",
    "    val+=1\n",
    "print(inventory)"
   ]
  },
  {
   "cell_type": "code",
   "execution_count": null,
   "id": "6d5542b4",
   "metadata": {},
   "outputs": [],
   "source": [
    "for loop in products:\n",
    "    inventory[products[key]] = input(\"Hello please input the inventory number for \" + products[key] + \":\" )\n",
    "    key+=1\n",
    "    \n",
    "print(inventory)"
   ]
  }
 ],
 "metadata": {
  "kernelspec": {
   "display_name": "Python 3 (ipykernel)",
   "language": "python",
   "name": "python3"
  },
  "language_info": {
   "codemirror_mode": {
    "name": "ipython",
    "version": 3
   },
   "file_extension": ".py",
   "mimetype": "text/x-python",
   "name": "python",
   "nbconvert_exporter": "python",
   "pygments_lexer": "ipython3",
   "version": "3.11.7"
  }
 },
 "nbformat": 4,
 "nbformat_minor": 5
}
